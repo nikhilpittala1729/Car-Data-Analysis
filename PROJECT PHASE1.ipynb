{
 "cells": [
  {
   "cell_type": "code",
   "execution_count": 11,
   "id": "0cc5755f-5f9c-43ad-983e-9eaec4b2c70e",
   "metadata": {},
   "outputs": [],
   "source": [
    "import pandas as pd\n",
    "import numpy as np"
   ]
  },
  {
   "cell_type": "markdown",
   "id": "770c77f7-d8f6-477f-b191-6bf709578f8e",
   "metadata": {},
   "source": [
    "# Load dataset"
   ]
  },
  {
   "cell_type": "code",
   "execution_count": 10,
   "id": "9e5dd1e6-9dab-47d0-8dce-231706e32cbb",
   "metadata": {},
   "outputs": [
    {
     "data": {
      "text/html": [
       "<div>\n",
       "<style scoped>\n",
       "    .dataframe tbody tr th:only-of-type {\n",
       "        vertical-align: middle;\n",
       "    }\n",
       "\n",
       "    .dataframe tbody tr th {\n",
       "        vertical-align: top;\n",
       "    }\n",
       "\n",
       "    .dataframe thead th {\n",
       "        text-align: right;\n",
       "    }\n",
       "</style>\n",
       "<table border=\"1\" class=\"dataframe\">\n",
       "  <thead>\n",
       "    <tr style=\"text-align: right;\">\n",
       "      <th></th>\n",
       "      <th>Car_ID</th>\n",
       "      <th>Brand</th>\n",
       "      <th>Model</th>\n",
       "      <th>Year</th>\n",
       "      <th>Fuel_Type</th>\n",
       "      <th>Transmission</th>\n",
       "      <th>Engine_Size</th>\n",
       "      <th>Horsepower</th>\n",
       "      <th>Mileage</th>\n",
       "      <th>Price</th>\n",
       "      <th>Owner_Type</th>\n",
       "      <th>Color</th>\n",
       "    </tr>\n",
       "  </thead>\n",
       "  <tbody>\n",
       "    <tr>\n",
       "      <th>0</th>\n",
       "      <td>1.0</td>\n",
       "      <td>Ford</td>\n",
       "      <td>Convertible</td>\n",
       "      <td>2019.0</td>\n",
       "      <td>NaN</td>\n",
       "      <td>Manual</td>\n",
       "      <td>NaN</td>\n",
       "      <td>267.0</td>\n",
       "      <td>19.0</td>\n",
       "      <td>62151.0</td>\n",
       "      <td>First</td>\n",
       "      <td>Black</td>\n",
       "    </tr>\n",
       "    <tr>\n",
       "      <th>1</th>\n",
       "      <td>2.0</td>\n",
       "      <td>Honda</td>\n",
       "      <td>SUV</td>\n",
       "      <td>2015.0</td>\n",
       "      <td>Diesel</td>\n",
       "      <td>Automatic</td>\n",
       "      <td>3.1</td>\n",
       "      <td>NaN</td>\n",
       "      <td>20.4</td>\n",
       "      <td>25861.0</td>\n",
       "      <td>First</td>\n",
       "      <td>White</td>\n",
       "    </tr>\n",
       "    <tr>\n",
       "      <th>2</th>\n",
       "      <td>3.0</td>\n",
       "      <td>Audi</td>\n",
       "      <td>SUV</td>\n",
       "      <td>2001.0</td>\n",
       "      <td>Electric</td>\n",
       "      <td>Automatic</td>\n",
       "      <td>2.6</td>\n",
       "      <td>213.0</td>\n",
       "      <td>9.5</td>\n",
       "      <td>61772.0</td>\n",
       "      <td>Third</td>\n",
       "      <td>Grey</td>\n",
       "    </tr>\n",
       "    <tr>\n",
       "      <th>3</th>\n",
       "      <td>4.0</td>\n",
       "      <td>Hyundai</td>\n",
       "      <td>Sedan</td>\n",
       "      <td>2016.0</td>\n",
       "      <td>Hybrid</td>\n",
       "      <td>Automatic</td>\n",
       "      <td>4.3</td>\n",
       "      <td>104.0</td>\n",
       "      <td>26.1</td>\n",
       "      <td>16354.0</td>\n",
       "      <td>Second</td>\n",
       "      <td>Red</td>\n",
       "    </tr>\n",
       "    <tr>\n",
       "      <th>4</th>\n",
       "      <td>5.0</td>\n",
       "      <td>NaN</td>\n",
       "      <td>Truck</td>\n",
       "      <td>2021.0</td>\n",
       "      <td>Hybrid</td>\n",
       "      <td>Automatic</td>\n",
       "      <td>4.4</td>\n",
       "      <td>NaN</td>\n",
       "      <td>6.5</td>\n",
       "      <td>88664.0</td>\n",
       "      <td>Third</td>\n",
       "      <td>Grey</td>\n",
       "    </tr>\n",
       "    <tr>\n",
       "      <th>...</th>\n",
       "      <td>...</td>\n",
       "      <td>...</td>\n",
       "      <td>...</td>\n",
       "      <td>...</td>\n",
       "      <td>...</td>\n",
       "      <td>...</td>\n",
       "      <td>...</td>\n",
       "      <td>...</td>\n",
       "      <td>...</td>\n",
       "      <td>...</td>\n",
       "      <td>...</td>\n",
       "      <td>...</td>\n",
       "    </tr>\n",
       "    <tr>\n",
       "      <th>8995</th>\n",
       "      <td>8996.0</td>\n",
       "      <td>Toyota</td>\n",
       "      <td>Truck</td>\n",
       "      <td>2001.0</td>\n",
       "      <td>Petrol</td>\n",
       "      <td>Automatic</td>\n",
       "      <td>3.8</td>\n",
       "      <td>181.0</td>\n",
       "      <td>12.3</td>\n",
       "      <td>52730.0</td>\n",
       "      <td>Second</td>\n",
       "      <td>Silver</td>\n",
       "    </tr>\n",
       "    <tr>\n",
       "      <th>8996</th>\n",
       "      <td>8997.0</td>\n",
       "      <td>Honda</td>\n",
       "      <td>Hatchback</td>\n",
       "      <td>2003.0</td>\n",
       "      <td>Hybrid</td>\n",
       "      <td>Manual</td>\n",
       "      <td>3.1</td>\n",
       "      <td>469.0</td>\n",
       "      <td>7.8</td>\n",
       "      <td>60988.0</td>\n",
       "      <td>First</td>\n",
       "      <td>Silver</td>\n",
       "    </tr>\n",
       "    <tr>\n",
       "      <th>8997</th>\n",
       "      <td>8998.0</td>\n",
       "      <td>Audi</td>\n",
       "      <td>SUV</td>\n",
       "      <td>2011.0</td>\n",
       "      <td>Diesel</td>\n",
       "      <td>Manual</td>\n",
       "      <td>4.2</td>\n",
       "      <td>255.0</td>\n",
       "      <td>19.5</td>\n",
       "      <td>74528.0</td>\n",
       "      <td>Third</td>\n",
       "      <td>Black</td>\n",
       "    </tr>\n",
       "    <tr>\n",
       "      <th>8998</th>\n",
       "      <td>NaN</td>\n",
       "      <td>NaN</td>\n",
       "      <td>Truck</td>\n",
       "      <td>NaN</td>\n",
       "      <td>Petrol</td>\n",
       "      <td>Automatic</td>\n",
       "      <td>3.3</td>\n",
       "      <td>109.0</td>\n",
       "      <td>28.5</td>\n",
       "      <td>98910.0</td>\n",
       "      <td>First</td>\n",
       "      <td>NaN</td>\n",
       "    </tr>\n",
       "    <tr>\n",
       "      <th>8999</th>\n",
       "      <td>9000.0</td>\n",
       "      <td>Audi</td>\n",
       "      <td>Convertible</td>\n",
       "      <td>2006.0</td>\n",
       "      <td>Diesel</td>\n",
       "      <td>NaN</td>\n",
       "      <td>4.1</td>\n",
       "      <td>77.0</td>\n",
       "      <td>24.9</td>\n",
       "      <td>58484.0</td>\n",
       "      <td>Second</td>\n",
       "      <td>Grey</td>\n",
       "    </tr>\n",
       "  </tbody>\n",
       "</table>\n",
       "<p>9000 rows × 12 columns</p>\n",
       "</div>"
      ],
      "text/plain": [
       "      Car_ID    Brand        Model    Year Fuel_Type Transmission  \\\n",
       "0        1.0     Ford  Convertible  2019.0       NaN       Manual   \n",
       "1        2.0    Honda          SUV  2015.0    Diesel    Automatic   \n",
       "2        3.0     Audi          SUV  2001.0  Electric    Automatic   \n",
       "3        4.0  Hyundai        Sedan  2016.0    Hybrid    Automatic   \n",
       "4        5.0      NaN        Truck  2021.0    Hybrid    Automatic   \n",
       "...      ...      ...          ...     ...       ...          ...   \n",
       "8995  8996.0   Toyota        Truck  2001.0    Petrol    Automatic   \n",
       "8996  8997.0    Honda    Hatchback  2003.0    Hybrid       Manual   \n",
       "8997  8998.0     Audi          SUV  2011.0    Diesel       Manual   \n",
       "8998     NaN      NaN        Truck     NaN    Petrol    Automatic   \n",
       "8999  9000.0     Audi  Convertible  2006.0    Diesel          NaN   \n",
       "\n",
       "      Engine_Size  Horsepower  Mileage    Price Owner_Type   Color  \n",
       "0             NaN       267.0     19.0  62151.0      First   Black  \n",
       "1             3.1         NaN     20.4  25861.0      First   White  \n",
       "2             2.6       213.0      9.5  61772.0      Third    Grey  \n",
       "3             4.3       104.0     26.1  16354.0     Second     Red  \n",
       "4             4.4         NaN      6.5  88664.0      Third    Grey  \n",
       "...           ...         ...      ...      ...        ...     ...  \n",
       "8995          3.8       181.0     12.3  52730.0     Second  Silver  \n",
       "8996          3.1       469.0      7.8  60988.0      First  Silver  \n",
       "8997          4.2       255.0     19.5  74528.0      Third   Black  \n",
       "8998          3.3       109.0     28.5  98910.0      First     NaN  \n",
       "8999          4.1        77.0     24.9  58484.0     Second    Grey  \n",
       "\n",
       "[9000 rows x 12 columns]"
      ]
     },
     "execution_count": 10,
     "metadata": {},
     "output_type": "execute_result"
    }
   ],
   "source": [
    "df = pd.read_csv(\"car_dataset_.csv\")\n",
    "df"
   ]
  },
  {
   "cell_type": "markdown",
   "id": "7d611b70-cadb-437f-97ef-e7d4ded8a5b3",
   "metadata": {},
   "source": [
    "# Obsersvation\n",
    "- Dataset has been loaded successfully using pd.read_csv()"
   ]
  },
  {
   "cell_type": "markdown",
   "id": "130544c8-2d12-41e1-9e9b-aa9e44103de7",
   "metadata": {},
   "source": [
    "# Understanding the Structure of the Dataset¶"
   ]
  },
  {
   "cell_type": "code",
   "execution_count": 12,
   "id": "3a44fac8-2982-4c29-b9af-ab5bbadc2f80",
   "metadata": {},
   "outputs": [
    {
     "data": {
      "text/plain": [
       "(9000, 12)"
      ]
     },
     "execution_count": 12,
     "metadata": {},
     "output_type": "execute_result"
    }
   ],
   "source": [
    "df.shape"
   ]
  },
  {
   "cell_type": "markdown",
   "id": "12f820b9-b55a-4dbe-a200-2a498f6753e7",
   "metadata": {},
   "source": [
    "# Observation\n",
    "- The dataset contains 9000 rows and 12 columns representing various car-related features."
   ]
  },
  {
   "cell_type": "markdown",
   "id": "d8de4fe5-961b-4125-8f97-ea75a42051a5",
   "metadata": {},
   "source": [
    "# Previewing the first few rows\n"
   ]
  },
  {
   "cell_type": "code",
   "execution_count": 13,
   "id": "62606d1f-4a79-41ef-a24e-3d09e0cdbb9a",
   "metadata": {},
   "outputs": [
    {
     "data": {
      "text/html": [
       "<div>\n",
       "<style scoped>\n",
       "    .dataframe tbody tr th:only-of-type {\n",
       "        vertical-align: middle;\n",
       "    }\n",
       "\n",
       "    .dataframe tbody tr th {\n",
       "        vertical-align: top;\n",
       "    }\n",
       "\n",
       "    .dataframe thead th {\n",
       "        text-align: right;\n",
       "    }\n",
       "</style>\n",
       "<table border=\"1\" class=\"dataframe\">\n",
       "  <thead>\n",
       "    <tr style=\"text-align: right;\">\n",
       "      <th></th>\n",
       "      <th>Car_ID</th>\n",
       "      <th>Brand</th>\n",
       "      <th>Model</th>\n",
       "      <th>Year</th>\n",
       "      <th>Fuel_Type</th>\n",
       "      <th>Transmission</th>\n",
       "      <th>Engine_Size</th>\n",
       "      <th>Horsepower</th>\n",
       "      <th>Mileage</th>\n",
       "      <th>Price</th>\n",
       "      <th>Owner_Type</th>\n",
       "      <th>Color</th>\n",
       "    </tr>\n",
       "  </thead>\n",
       "  <tbody>\n",
       "    <tr>\n",
       "      <th>0</th>\n",
       "      <td>1.0</td>\n",
       "      <td>Ford</td>\n",
       "      <td>Convertible</td>\n",
       "      <td>2019.0</td>\n",
       "      <td>NaN</td>\n",
       "      <td>Manual</td>\n",
       "      <td>NaN</td>\n",
       "      <td>267.0</td>\n",
       "      <td>19.0</td>\n",
       "      <td>62151.0</td>\n",
       "      <td>First</td>\n",
       "      <td>Black</td>\n",
       "    </tr>\n",
       "    <tr>\n",
       "      <th>1</th>\n",
       "      <td>2.0</td>\n",
       "      <td>Honda</td>\n",
       "      <td>SUV</td>\n",
       "      <td>2015.0</td>\n",
       "      <td>Diesel</td>\n",
       "      <td>Automatic</td>\n",
       "      <td>3.1</td>\n",
       "      <td>NaN</td>\n",
       "      <td>20.4</td>\n",
       "      <td>25861.0</td>\n",
       "      <td>First</td>\n",
       "      <td>White</td>\n",
       "    </tr>\n",
       "    <tr>\n",
       "      <th>2</th>\n",
       "      <td>3.0</td>\n",
       "      <td>Audi</td>\n",
       "      <td>SUV</td>\n",
       "      <td>2001.0</td>\n",
       "      <td>Electric</td>\n",
       "      <td>Automatic</td>\n",
       "      <td>2.6</td>\n",
       "      <td>213.0</td>\n",
       "      <td>9.5</td>\n",
       "      <td>61772.0</td>\n",
       "      <td>Third</td>\n",
       "      <td>Grey</td>\n",
       "    </tr>\n",
       "    <tr>\n",
       "      <th>3</th>\n",
       "      <td>4.0</td>\n",
       "      <td>Hyundai</td>\n",
       "      <td>Sedan</td>\n",
       "      <td>2016.0</td>\n",
       "      <td>Hybrid</td>\n",
       "      <td>Automatic</td>\n",
       "      <td>4.3</td>\n",
       "      <td>104.0</td>\n",
       "      <td>26.1</td>\n",
       "      <td>16354.0</td>\n",
       "      <td>Second</td>\n",
       "      <td>Red</td>\n",
       "    </tr>\n",
       "    <tr>\n",
       "      <th>4</th>\n",
       "      <td>5.0</td>\n",
       "      <td>NaN</td>\n",
       "      <td>Truck</td>\n",
       "      <td>2021.0</td>\n",
       "      <td>Hybrid</td>\n",
       "      <td>Automatic</td>\n",
       "      <td>4.4</td>\n",
       "      <td>NaN</td>\n",
       "      <td>6.5</td>\n",
       "      <td>88664.0</td>\n",
       "      <td>Third</td>\n",
       "      <td>Grey</td>\n",
       "    </tr>\n",
       "  </tbody>\n",
       "</table>\n",
       "</div>"
      ],
      "text/plain": [
       "   Car_ID    Brand        Model    Year Fuel_Type Transmission  Engine_Size  \\\n",
       "0     1.0     Ford  Convertible  2019.0       NaN       Manual          NaN   \n",
       "1     2.0    Honda          SUV  2015.0    Diesel    Automatic          3.1   \n",
       "2     3.0     Audi          SUV  2001.0  Electric    Automatic          2.6   \n",
       "3     4.0  Hyundai        Sedan  2016.0    Hybrid    Automatic          4.3   \n",
       "4     5.0      NaN        Truck  2021.0    Hybrid    Automatic          4.4   \n",
       "\n",
       "   Horsepower  Mileage    Price Owner_Type  Color  \n",
       "0       267.0     19.0  62151.0      First  Black  \n",
       "1         NaN     20.4  25861.0      First  White  \n",
       "2       213.0      9.5  61772.0      Third   Grey  \n",
       "3       104.0     26.1  16354.0     Second    Red  \n",
       "4         NaN      6.5  88664.0      Third   Grey  "
      ]
     },
     "execution_count": 13,
     "metadata": {},
     "output_type": "execute_result"
    }
   ],
   "source": [
    "df.head()"
   ]
  },
  {
   "cell_type": "markdown",
   "id": "05c3b298-764c-4049-b9c8-f9da348fb219",
   "metadata": {},
   "source": [
    "# Obsersavtion\n",
    "- The preview shows the first few rows of the data and helps us check if the file loaded correctly."
   ]
  },
  {
   "cell_type": "markdown",
   "id": "ad0e0a86-2545-4e33-970b-258dd504cfe9",
   "metadata": {},
   "source": [
    "# Dataset Structure and Data Types"
   ]
  },
  {
   "cell_type": "code",
   "execution_count": 14,
   "id": "1c574021-58d6-4209-9e64-2da9f8dc052a",
   "metadata": {},
   "outputs": [
    {
     "name": "stdout",
     "output_type": "stream",
     "text": [
      "<class 'pandas.core.frame.DataFrame'>\n",
      "RangeIndex: 9000 entries, 0 to 8999\n",
      "Data columns (total 12 columns):\n",
      " #   Column        Non-Null Count  Dtype  \n",
      "---  ------        --------------  -----  \n",
      " 0   Car_ID        8100 non-null   float64\n",
      " 1   Brand         8100 non-null   object \n",
      " 2   Model         8100 non-null   object \n",
      " 3   Year          8100 non-null   float64\n",
      " 4   Fuel_Type     8100 non-null   object \n",
      " 5   Transmission  8100 non-null   object \n",
      " 6   Engine_Size   8100 non-null   float64\n",
      " 7   Horsepower    8100 non-null   float64\n",
      " 8   Mileage       8100 non-null   float64\n",
      " 9   Price         8100 non-null   float64\n",
      " 10  Owner_Type    8100 non-null   object \n",
      " 11  Color         8100 non-null   object \n",
      "dtypes: float64(6), object(6)\n",
      "memory usage: 843.9+ KB\n"
     ]
    }
   ],
   "source": [
    "df.info()"
   ]
  },
  {
   "cell_type": "markdown",
   "id": "4fc4301c-8987-4be4-86b9-8bb2da0d16be",
   "metadata": {},
   "source": [
    "I have 900 missing values per column (9000 total rows, but only 8100 valid in each column).\n",
    "\n",
    "Data types are mixed:\n",
    "\n",
    "float64 → numerical (Car_ID, Year, Engine_Size, Horsepower, Mileage, Price).\n",
    "\n",
    "object → categorical (Brand, Model, Fuel_Type, Transmission, Owner_Type, Color).\n",
    "\n",
    "Memory usage: ~844 KB (lightweight dataset).\n",
    "\n",
    "This dataset looks like a car sales/records dataset with features about car specs + sales details."
   ]
  },
  {
   "cell_type": "markdown",
   "id": "a496cc83-2b5b-453e-ab48-7e8a8545724f",
   "metadata": {},
   "source": [
    "# Statistical Overview of Numerical Data"
   ]
  },
  {
   "cell_type": "code",
   "execution_count": 25,
   "id": "3ad2b13a-a1f9-4c4a-bb44-176e82528e7b",
   "metadata": {},
   "outputs": [
    {
     "data": {
      "text/html": [
       "<div>\n",
       "<style scoped>\n",
       "    .dataframe tbody tr th:only-of-type {\n",
       "        vertical-align: middle;\n",
       "    }\n",
       "\n",
       "    .dataframe tbody tr th {\n",
       "        vertical-align: top;\n",
       "    }\n",
       "\n",
       "    .dataframe thead th {\n",
       "        text-align: right;\n",
       "    }\n",
       "</style>\n",
       "<table border=\"1\" class=\"dataframe\">\n",
       "  <thead>\n",
       "    <tr style=\"text-align: right;\">\n",
       "      <th></th>\n",
       "      <th>Car_ID</th>\n",
       "      <th>Year</th>\n",
       "      <th>Engine_Size</th>\n",
       "      <th>Horsepower</th>\n",
       "      <th>Mileage</th>\n",
       "      <th>Price</th>\n",
       "    </tr>\n",
       "  </thead>\n",
       "  <tbody>\n",
       "    <tr>\n",
       "      <th>count</th>\n",
       "      <td>8100.000000</td>\n",
       "      <td>8100.000000</td>\n",
       "      <td>8100.000000</td>\n",
       "      <td>8100.000000</td>\n",
       "      <td>8100.000000</td>\n",
       "      <td>8100.000000</td>\n",
       "    </tr>\n",
       "    <tr>\n",
       "      <th>mean</th>\n",
       "      <td>4484.535926</td>\n",
       "      <td>2008.524321</td>\n",
       "      <td>2.997037</td>\n",
       "      <td>278.152469</td>\n",
       "      <td>17.471049</td>\n",
       "      <td>51033.630617</td>\n",
       "    </tr>\n",
       "    <tr>\n",
       "      <th>std</th>\n",
       "      <td>2599.169860</td>\n",
       "      <td>8.087283</td>\n",
       "      <td>1.147651</td>\n",
       "      <td>126.697237</td>\n",
       "      <td>7.218944</td>\n",
       "      <td>28498.359118</td>\n",
       "    </tr>\n",
       "    <tr>\n",
       "      <th>min</th>\n",
       "      <td>1.000000</td>\n",
       "      <td>1995.000000</td>\n",
       "      <td>1.000000</td>\n",
       "      <td>60.000000</td>\n",
       "      <td>5.000000</td>\n",
       "      <td>2005.000000</td>\n",
       "    </tr>\n",
       "    <tr>\n",
       "      <th>25%</th>\n",
       "      <td>2233.750000</td>\n",
       "      <td>2002.000000</td>\n",
       "      <td>2.000000</td>\n",
       "      <td>168.000000</td>\n",
       "      <td>11.200000</td>\n",
       "      <td>26248.000000</td>\n",
       "    </tr>\n",
       "    <tr>\n",
       "      <th>50%</th>\n",
       "      <td>4479.500000</td>\n",
       "      <td>2008.000000</td>\n",
       "      <td>3.000000</td>\n",
       "      <td>278.000000</td>\n",
       "      <td>17.500000</td>\n",
       "      <td>51313.500000</td>\n",
       "    </tr>\n",
       "    <tr>\n",
       "      <th>75%</th>\n",
       "      <td>6740.250000</td>\n",
       "      <td>2016.000000</td>\n",
       "      <td>4.000000</td>\n",
       "      <td>388.000000</td>\n",
       "      <td>23.700000</td>\n",
       "      <td>75768.500000</td>\n",
       "    </tr>\n",
       "    <tr>\n",
       "      <th>max</th>\n",
       "      <td>9000.000000</td>\n",
       "      <td>2022.000000</td>\n",
       "      <td>5.000000</td>\n",
       "      <td>499.000000</td>\n",
       "      <td>30.000000</td>\n",
       "      <td>99998.000000</td>\n",
       "    </tr>\n",
       "  </tbody>\n",
       "</table>\n",
       "</div>"
      ],
      "text/plain": [
       "            Car_ID         Year  Engine_Size   Horsepower      Mileage  \\\n",
       "count  8100.000000  8100.000000  8100.000000  8100.000000  8100.000000   \n",
       "mean   4484.535926  2008.524321     2.997037   278.152469    17.471049   \n",
       "std    2599.169860     8.087283     1.147651   126.697237     7.218944   \n",
       "min       1.000000  1995.000000     1.000000    60.000000     5.000000   \n",
       "25%    2233.750000  2002.000000     2.000000   168.000000    11.200000   \n",
       "50%    4479.500000  2008.000000     3.000000   278.000000    17.500000   \n",
       "75%    6740.250000  2016.000000     4.000000   388.000000    23.700000   \n",
       "max    9000.000000  2022.000000     5.000000   499.000000    30.000000   \n",
       "\n",
       "              Price  \n",
       "count   8100.000000  \n",
       "mean   51033.630617  \n",
       "std    28498.359118  \n",
       "min     2005.000000  \n",
       "25%    26248.000000  \n",
       "50%    51313.500000  \n",
       "75%    75768.500000  \n",
       "max    99998.000000  "
      ]
     },
     "execution_count": 25,
     "metadata": {},
     "output_type": "execute_result"
    }
   ],
   "source": [
    "df.describe()"
   ]
  },
  {
   "cell_type": "markdown",
   "id": "f619bb67-1042-43ab-bc9c-c85080112079",
   "metadata": {},
   "source": [
    "# Observation\n",
    "The dataset looks like a mix of economy, mid-range, and luxury cars.\n",
    "\n",
    "Most cars are 2000–2015 models, with engine size around 3.0L, horsepower 278 HP, mileage 17–18 km/l, and price ₹50k approx.\n",
    "\n",
    "Outliers exist at the lower (very cheap, low-power cars) and upper end (luxury, high-power cars)."
   ]
  },
  {
   "cell_type": "markdown",
   "id": "ceb3efc2-3ad1-49a2-9eca-ff88231096be",
   "metadata": {},
   "source": [
    "# Null value count Across All columns"
   ]
  },
  {
   "cell_type": "code",
   "execution_count": 26,
   "id": "34c386aa-e440-4df8-a951-97cb35595b83",
   "metadata": {},
   "outputs": [
    {
     "data": {
      "text/plain": [
       "Car_ID          900\n",
       "Brand           900\n",
       "Model           900\n",
       "Year            900\n",
       "Fuel_Type       900\n",
       "Transmission    900\n",
       "Engine_Size     900\n",
       "Horsepower      900\n",
       "Mileage         900\n",
       "Price           900\n",
       "Owner_Type      900\n",
       "Color           900\n",
       "dtype: int64"
      ]
     },
     "execution_count": 26,
     "metadata": {},
     "output_type": "execute_result"
    }
   ],
   "source": [
    "df.isnull().sum()"
   ]
  },
  {
   "cell_type": "markdown",
   "id": "27751374-bc69-4abc-8f82-07129547c46d",
   "metadata": {},
   "source": [
    "# Percentage of Missing Values¶"
   ]
  },
  {
   "cell_type": "code",
   "execution_count": 30,
   "id": "248707de-2877-4d69-bc8f-052d35929c26",
   "metadata": {},
   "outputs": [
    {
     "data": {
      "text/plain": [
       "Car_ID          10.0\n",
       "Brand           10.0\n",
       "Model           10.0\n",
       "Year            10.0\n",
       "Fuel_Type       10.0\n",
       "Transmission    10.0\n",
       "Engine_Size     10.0\n",
       "Horsepower      10.0\n",
       "Mileage         10.0\n",
       "Price           10.0\n",
       "Owner_Type      10.0\n",
       "Color           10.0\n",
       "dtype: float64"
      ]
     },
     "execution_count": 30,
     "metadata": {},
     "output_type": "execute_result"
    }
   ],
   "source": [
    "round(df.isnull().sum()/len(df)*100)"
   ]
  },
  {
   "cell_type": "markdown",
   "id": "4311271e-679e-49bc-9f5c-97e154042a8a",
   "metadata": {},
   "source": [
    "# Observation:\n",
    "- Every column (Car_ID, Brand, Model, Year, Fuel_Type, Transmission, Engine_Size, Horsepower, Mileage, Price, Owner_Type, Color) has 10% missing values.\n",
    "\n",
    "This matches the dataset we designed (we randomly introduced ~10% NaNs)."
   ]
  },
  {
   "cell_type": "code",
   "execution_count": 31,
   "id": "67e63d5a-6ef8-413a-bf8f-710b497e5917",
   "metadata": {},
   "outputs": [
    {
     "name": "stdout",
     "output_type": "stream",
     "text": [
      "<class 'pandas.core.frame.DataFrame'>\n",
      "RangeIndex: 9000 entries, 0 to 8999\n",
      "Data columns (total 12 columns):\n",
      " #   Column        Non-Null Count  Dtype  \n",
      "---  ------        --------------  -----  \n",
      " 0   Car_ID        8100 non-null   float64\n",
      " 1   Brand         8100 non-null   object \n",
      " 2   Model         8100 non-null   object \n",
      " 3   Year          8100 non-null   float64\n",
      " 4   Fuel_Type     8100 non-null   object \n",
      " 5   Transmission  8100 non-null   object \n",
      " 6   Engine_Size   8100 non-null   float64\n",
      " 7   Horsepower    8100 non-null   float64\n",
      " 8   Mileage       8100 non-null   float64\n",
      " 9   Price         8100 non-null   float64\n",
      " 10  Owner_Type    8100 non-null   object \n",
      " 11  Color         8100 non-null   object \n",
      "dtypes: float64(6), object(6)\n",
      "memory usage: 843.9+ KB\n"
     ]
    }
   ],
   "source": [
    "df.info()"
   ]
  },
  {
   "cell_type": "markdown",
   "id": "1949efd4-55e8-49d8-a1d7-100fe7bc8c76",
   "metadata": {},
   "source": [
    "# Value count summary "
   ]
  },
  {
   "cell_type": "markdown",
   "id": "16b849a5-d9c5-458a-807f-9cbc998b05ee",
   "metadata": {},
   "source": [
    "### Car_ID\n",
    "- Dataset includes various of car ID , The name of the Car_ID\n",
    "- example : 1.0,2.0,3.0.\n"
   ]
  },
  {
   "cell_type": "markdown",
   "id": "b9115055-4ab4-45c6-a52e-10c7256b2c26",
   "metadata": {},
   "source": [
    "### Brand\n",
    "- represents the sector in which have different types of Brands\n",
    "- Example : Ford, Honda, Audi, Hyundai, Kia, BMW, Toyota"
   ]
  },
  {
   "cell_type": "markdown",
   "id": "f7d5039a-7587-4e62-848f-d9ce528078fa",
   "metadata": {},
   "source": [
    "### Model\n",
    "- In This have different types of Model\n",
    " - Example:Convertible, SUV, Sedan, Truck, Hatchback, Coupe."
   ]
  },
  {
   "cell_type": "markdown",
   "id": "07bf4683-0aa2-4cb0-a943-5b51f4f74262",
   "metadata": {},
   "source": [
    "### Year \n",
    "- Manufacturing year of the car\n",
    "\n",
    "### Fuel_Type \n",
    "- Petrol, Diesel, Electric, Hybrid\n",
    "\n",
    "### Transmission \n",
    "- Manual, Automatic\n",
    "\n",
    "### Engine_Size \n",
    "- Engine capacity (e.g., 2.0L, 3.5L)\n",
    "\n",
    "### Horsepower \n",
    "- Power of the engine\n",
    "\n",
    "### Mileage \n",
    "-Fuel efficiency (km/l)\n",
    "\n",
    "### Price \n",
    "- Cost of the car\n",
    "\n",
    "### Owner_Type \n",
    "- First owner, Second owner, etc.\n",
    "\n",
    "### Color \n",
    "- Car color"
   ]
  },
  {
   "cell_type": "code",
   "execution_count": 38,
   "id": "4fde2380-762a-4e6b-b823-c5bd6aa75672",
   "metadata": {},
   "outputs": [
    {
     "data": {
      "text/plain": [
       "Car_ID\n",
       "1.0       1\n",
       "5960.0    1\n",
       "5975.0    1\n",
       "5974.0    1\n",
       "5972.0    1\n",
       "         ..\n",
       "2985.0    1\n",
       "2984.0    1\n",
       "2983.0    1\n",
       "2982.0    1\n",
       "9000.0    1\n",
       "Name: count, Length: 8100, dtype: int64"
      ]
     },
     "execution_count": 38,
     "metadata": {},
     "output_type": "execute_result"
    }
   ],
   "source": [
    "df['Car_ID'].value_counts()"
   ]
  },
  {
   "cell_type": "code",
   "execution_count": 39,
   "id": "0f0b2b30-ed34-4eaa-be60-dfb165321ee1",
   "metadata": {},
   "outputs": [
    {
     "data": {
      "text/plain": [
       "Year\n",
       "2007.0    325\n",
       "2004.0    317\n",
       "2010.0    316\n",
       "2021.0    314\n",
       "2006.0    304\n",
       "2022.0    300\n",
       "2009.0    300\n",
       "2001.0    297\n",
       "1996.0    295\n",
       "2020.0    294\n",
       "2015.0    294\n",
       "2000.0    289\n",
       "1999.0    289\n",
       "2018.0    287\n",
       "1995.0    286\n",
       "2019.0    283\n",
       "2005.0    282\n",
       "2003.0    282\n",
       "1998.0    281\n",
       "1997.0    281\n",
       "2013.0    281\n",
       "2016.0    281\n",
       "2012.0    276\n",
       "2017.0    276\n",
       "2011.0    273\n",
       "2008.0    269\n",
       "2014.0    265\n",
       "2002.0    263\n",
       "Name: count, dtype: int64"
      ]
     },
     "execution_count": 39,
     "metadata": {},
     "output_type": "execute_result"
    }
   ],
   "source": [
    "df[\"Year\"].value_counts()"
   ]
  },
  {
   "cell_type": "markdown",
   "id": "3e1e5b3d-a182-4b54-aab9-112f84e7b10e",
   "metadata": {},
   "source": [
    "## observation:\n",
    "- In this the datset its shows year of buying cars and each year how many cars buying"
   ]
  },
  {
   "cell_type": "code",
   "execution_count": 40,
   "id": "64a53007-f0e8-4da8-beeb-80b46e426374",
   "metadata": {},
   "outputs": [
    {
     "data": {
      "text/plain": [
       "Engine_Size\n",
       "3.4    230\n",
       "3.3    220\n",
       "3.5    219\n",
       "3.7    219\n",
       "4.7    218\n",
       "1.3    217\n",
       "3.8    217\n",
       "1.1    216\n",
       "3.2    216\n",
       "2.5    214\n",
       "4.2    214\n",
       "2.2    213\n",
       "1.5    213\n",
       "2.7    212\n",
       "2.4    210\n",
       "1.9    209\n",
       "1.8    208\n",
       "2.3    208\n",
       "4.8    206\n",
       "2.0    204\n",
       "4.3    203\n",
       "4.0    203\n",
       "4.9    201\n",
       "3.1    200\n",
       "2.6    199\n",
       "2.9    197\n",
       "2.1    197\n",
       "3.9    196\n",
       "4.4    195\n",
       "1.6    194\n",
       "4.1    191\n",
       "1.2    188\n",
       "4.5    185\n",
       "1.7    185\n",
       "3.0    185\n",
       "2.8    182\n",
       "3.6    182\n",
       "1.4    178\n",
       "4.6    169\n",
       "1.0     94\n",
       "5.0     93\n",
       "Name: count, dtype: int64"
      ]
     },
     "execution_count": 40,
     "metadata": {},
     "output_type": "execute_result"
    }
   ],
   "source": [
    "df[\"Engine_Size\"].value_counts()"
   ]
  },
  {
   "cell_type": "markdown",
   "id": "3483f085-5f2b-4a51-94a5-7edd165c20e6",
   "metadata": {},
   "source": [
    "## Observation:\n",
    "- In this data set contains the size of the engine and its valuecounts "
   ]
  },
  {
   "cell_type": "code",
   "execution_count": 43,
   "id": "0998f282-99b8-4367-89e2-f60f5c67a2b2",
   "metadata": {},
   "outputs": [
    {
     "data": {
      "text/plain": [
       "Horsepower\n",
       "267.0    31\n",
       "336.0    31\n",
       "141.0    30\n",
       "388.0    30\n",
       "279.0    30\n",
       "         ..\n",
       "459.0     9\n",
       "468.0     9\n",
       "313.0     9\n",
       "91.0      9\n",
       "418.0     7\n",
       "Name: count, Length: 440, dtype: int64"
      ]
     },
     "execution_count": 43,
     "metadata": {},
     "output_type": "execute_result"
    }
   ],
   "source": [
    "df[\"Horsepower\"].value_counts()"
   ]
  },
  {
   "cell_type": "markdown",
   "id": "da0aff00-69ec-4927-8e3f-384c309ed64b",
   "metadata": {},
   "source": [
    "## Observation:\n",
    "- In this dataset shows about the horse power of the value counts"
   ]
  },
  {
   "cell_type": "code",
   "execution_count": 44,
   "id": "a24aa598-51bb-4af7-80ec-adfe1bc4a243",
   "metadata": {},
   "outputs": [
    {
     "data": {
      "text/plain": [
       "Mileage\n",
       "23.5    46\n",
       "22.5    44\n",
       "8.8     44\n",
       "26.2    44\n",
       "16.9    43\n",
       "        ..\n",
       "26.6    21\n",
       "22.9    20\n",
       "14.8    20\n",
       "5.7     19\n",
       "5.0     14\n",
       "Name: count, Length: 251, dtype: int64"
      ]
     },
     "execution_count": 44,
     "metadata": {},
     "output_type": "execute_result"
    }
   ],
   "source": [
    "df[\"Mileage\"].value_counts()"
   ]
  },
  {
   "cell_type": "markdown",
   "id": "570335c8-964b-4a63-bcf3-8044e2315c40",
   "metadata": {},
   "source": [
    "## Observation:\n",
    "- Its shows the mileage of the car in the data set"
   ]
  },
  {
   "cell_type": "code",
   "execution_count": 45,
   "id": "eeb7400f-45b0-4c6b-b4cb-d2aaf50bd142",
   "metadata": {},
   "outputs": [
    {
     "data": {
      "text/plain": [
       "Price\n",
       "41693.0    3\n",
       "80558.0    3\n",
       "69252.0    3\n",
       "94577.0    3\n",
       "6337.0     3\n",
       "          ..\n",
       "25298.0    1\n",
       "16683.0    1\n",
       "71962.0    1\n",
       "28400.0    1\n",
       "58484.0    1\n",
       "Name: count, Length: 7801, dtype: int64"
      ]
     },
     "execution_count": 45,
     "metadata": {},
     "output_type": "execute_result"
    }
   ],
   "source": [
    "df['Price'].value_counts()"
   ]
  },
  {
   "cell_type": "markdown",
   "id": "a9e274ab-fdd9-40ee-ba7c-0a67d2006551",
   "metadata": {},
   "source": [
    "## Observation:\n",
    "- its showns the price of the car and which car prices most frequently price"
   ]
  },
  {
   "cell_type": "markdown",
   "id": "7b1131ac-2978-45d3-9262-8bca02479da7",
   "metadata": {},
   "source": [
    "# Real Numerical Columns\n",
    "- Car_ID → numeric ID (but it’s an identifier, not useful for analysis).\n",
    "\n",
    "- Brand → categorical (Ford, Honda, etc.).\n",
    "\n",
    "- Model → categorical (SUV, Sedan, etc.).\n",
    "\n",
    "- Year → numeric (car manufacturing year).\n",
    "\n",
    "- Fuel_Type → categorical (Petrol, Diesel, Electric, Hybrid).\n",
    "\n",
    "Transmission → categorical (Manual, Automatic).\n",
    "\n",
    "- Engine_Size → numeric (in Liters).\n",
    "\n",
    "- Horsepower → numeric (power of engine).\n",
    "\n",
    "- Mileage → numeric (fuel efficiency, km/l).\n",
    "\n",
    "- Price → numeric (car cost).\n",
    "\n",
    "- Owner_Type → categorical (First, Second, Third).\n",
    "\n",
    "- Color → categorical (Black, White, Red, etc.)."
   ]
  },
  {
   "cell_type": "markdown",
   "id": "cc113b81-d3c6-4ba8-9e7b-b51dbc78b67c",
   "metadata": {},
   "source": [
    "# Discrete Numerical Columns\n",
    "- Discrete numeric (treat as integers):\n",
    "- Year (e.g., 2016, 2021)\n",
    "- Horsepower (often recorded as whole numbers)\n",
    "- Price (recorded as whole numbers)\n",
    "- Car_ID (identifier — discrete, but usually exclude from analysis)"
   ]
  },
  {
   "cell_type": "markdown",
   "id": "44507976-2ada-4d4b-91f3-10bb254ff8f0",
   "metadata": {},
   "source": [
    "# Checking for Duplicates¶"
   ]
  },
  {
   "cell_type": "code",
   "execution_count": 46,
   "id": "0685d897-ce01-43d8-9713-5d92ee5725c5",
   "metadata": {},
   "outputs": [
    {
     "data": {
      "text/plain": [
       "0"
      ]
     },
     "execution_count": 46,
     "metadata": {},
     "output_type": "execute_result"
    }
   ],
   "source": [
    "df.duplicated().sum()"
   ]
  },
  {
   "cell_type": "markdown",
   "id": "f522eedc-ece7-4ac0-812c-c4cede663c78",
   "metadata": {},
   "source": [
    "## Observation:\n",
    "- As seen there are no duplicates found in the dataset"
   ]
  },
  {
   "cell_type": "markdown",
   "id": "48158de2-bcea-45b2-a523-aa6dab22c3fc",
   "metadata": {},
   "source": [
    "## Detecting Outliers\n",
    "- The IQR (Interquartile Range) method was used to detect outliers in all numerical columns as part of the non-visual analysis."
   ]
  },
  {
   "cell_type": "markdown",
   "id": "1d458ac1-f6eb-4ce1-bac5-223bf0ff22e3",
   "metadata": {},
   "source": [
    "### steps:\n",
    "- Calculate Q1 (25th percentile) and Q3 (75th percentile)\n",
    "- Compute IQR = Q3 - Q1\n",
    "- Define lower and upper bounds:\n",
    "- Lower bound = Q1 − 1.5 × IQR\n",
    "- Upper bound = Q3 + 1.5 × IQR\n",
    " -Any value outside this range is considered an outlier"
   ]
  },
  {
   "cell_type": "code",
   "execution_count": 47,
   "id": "f680aa2c-b681-44a0-a2c9-40c420aac8a1",
   "metadata": {},
   "outputs": [],
   "source": [
    "num_cols = df.select_dtypes(include=['float64', 'int64']).columns"
   ]
  },
  {
   "cell_type": "code",
   "execution_count": null,
   "id": "60802fef-71dd-4c65-83d8-62e90980e513",
   "metadata": {},
   "outputs": [],
   "source": [
    "outliers = {}"
   ]
  },
  {
   "cell_type": "code",
   "execution_count": 48,
   "id": "5af57d95-3ef2-4190-836a-d46307ff9e8e",
   "metadata": {},
   "outputs": [],
   "source": [
    "outliers = {}\n",
    "for col in num_cols:\n",
    "    if df[col].isnull().all():\n",
    "        continue  # Skip the columns with all missing values\n",
    "    Q1 = df[col].quantile(0.25)\n",
    "    Q3 = df[col].quantile(0.75)\n",
    "    IQR = Q3 - Q1\n",
    "    lower = Q1 - 1.5 * IQR\n",
    "    upper = Q3 + 1.5 * IQR\n",
    "    outlier_values = df[(df[col] < lower) | (df[col] > upper)][col]\n",
    "    if not outlier_values.empty:\n",
    "        outliers[col] = outlier_values.tolist()"
   ]
  },
  {
   "cell_type": "code",
   "execution_count": 49,
   "id": "da857f36-fda7-4300-8c1a-790df557309c",
   "metadata": {},
   "outputs": [
    {
     "name": "stdout",
     "output_type": "stream",
     "text": [
      "No outliers found in the numerical columns.\n"
     ]
    }
   ],
   "source": [
    "if outliers:\n",
    "    for col, vals in outliers.items():\n",
    "        print(f\"\\nOutliers in column '{col}':\\n{vals}\")\n",
    "else:\n",
    "      print(\"No outliers found in the numerical columns.\")"
   ]
  },
  {
   "cell_type": "markdown",
   "id": "8cc21640-d814-4159-b2e2-56a6c308b806",
   "metadata": {},
   "source": [
    "## Observation\n",
    "- Using the IQR method, outliers were detected in the Projected Openings (ZERO) column."
   ]
  },
  {
   "cell_type": "markdown",
   "id": "d3eaf7c8-8e49-4040-96ee-653c9f1315a5",
   "metadata": {},
   "source": [
    "# Phase 2"
   ]
  },
  {
   "cell_type": "code",
   "execution_count": null,
   "id": "94d0d749-3bc8-4604-9eca-9276b4fea8d6",
   "metadata": {},
   "outputs": [],
   "source": []
  }
 ],
 "metadata": {
  "kernelspec": {
   "display_name": "Python 3 (ipykernel)",
   "language": "python",
   "name": "python3"
  },
  "language_info": {
   "codemirror_mode": {
    "name": "ipython",
    "version": 3
   },
   "file_extension": ".py",
   "mimetype": "text/x-python",
   "name": "python",
   "nbconvert_exporter": "python",
   "pygments_lexer": "ipython3",
   "version": "3.12.7"
  }
 },
 "nbformat": 4,
 "nbformat_minor": 5
}
